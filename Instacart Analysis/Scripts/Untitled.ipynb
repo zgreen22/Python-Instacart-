{
 "cells": [
  {
   "cell_type": "code",
   "execution_count": 1,
   "id": "3b4397d0",
   "metadata": {},
   "outputs": [],
   "source": [
    "#import libraries\n",
    "import pandas as pd\n",
    "import numpy as np\n",
    "import os"
   ]
  },
  {
   "cell_type": "code",
   "execution_count": 3,
   "id": "8a44a56d",
   "metadata": {},
   "outputs": [],
   "source": [
    "path='/Users/zacharygreen/Desktop/instacart analysis/data'"
   ]
  },
  {
   "cell_type": "code",
   "execution_count": 5,
   "id": "4d4bdedb",
   "metadata": {},
   "outputs": [],
   "source": [
    "df_orders_products_merged=pd.read_pickle(os.path.join(path, 'prepared data', 'orders_products.merged.pkl'))"
   ]
  },
  {
   "cell_type": "code",
   "execution_count": 8,
   "id": "a47a6ba8",
   "metadata": {},
   "outputs": [],
   "source": [
    "df=df_orders_products_merged[:1000000]"
   ]
  },
  {
   "cell_type": "code",
   "execution_count": 9,
   "id": "0b6cf5cf",
   "metadata": {},
   "outputs": [],
   "source": [
    "def price_label(row):\n",
    "\n",
    "  if row['prices'] <= 5:\n",
    "    return 'Low-range product'\n",
    "  elif (row['prices'] > 5) and (row['prices'] <= 15):\n",
    "    return 'Mid-range product'\n",
    "  elif row['prices'] > 15:\n",
    "    return 'High range'\n",
    "  else: return 'Not enough data'"
   ]
  },
  {
   "cell_type": "code",
   "execution_count": null,
   "id": "87ff27b5",
   "metadata": {},
   "outputs": [],
   "source": []
  },
  {
   "cell_type": "code",
   "execution_count": null,
   "id": "37208798",
   "metadata": {},
   "outputs": [],
   "source": []
  }
 ],
 "metadata": {
  "kernelspec": {
   "display_name": "Python 3 (ipykernel)",
   "language": "python",
   "name": "python3"
  },
  "language_info": {
   "codemirror_mode": {
    "name": "ipython",
    "version": 3
   },
   "file_extension": ".py",
   "mimetype": "text/x-python",
   "name": "python",
   "nbconvert_exporter": "python",
   "pygments_lexer": "ipython3",
   "version": "3.10.9"
  }
 },
 "nbformat": 4,
 "nbformat_minor": 5
}
