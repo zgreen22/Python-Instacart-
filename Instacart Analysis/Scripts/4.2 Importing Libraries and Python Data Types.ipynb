{
 "cells": [
  {
   "cell_type": "markdown",
   "id": "c33d7872",
   "metadata": {},
   "source": [
    "# 01 Importing Libraries"
   ]
  },
  {
   "cell_type": "code",
   "execution_count": 4,
   "id": "f8d988d6",
   "metadata": {},
   "outputs": [],
   "source": [
    "#import libraries\n",
    "import pandas as pd\n",
    "import numpy as np\n",
    "import os "
   ]
  },
  {
   "cell_type": "code",
   "execution_count": 5,
   "id": "6b4598b6",
   "metadata": {},
   "outputs": [],
   "source": [
    "x=2"
   ]
  },
  {
   "cell_type": "code",
   "execution_count": 9,
   "id": "cb606caa",
   "metadata": {},
   "outputs": [],
   "source": [
    "y=5.682"
   ]
  },
  {
   "cell_type": "code",
   "execution_count": 10,
   "id": "508908ff",
   "metadata": {},
   "outputs": [
    {
     "data": {
      "text/plain": [
       "float"
      ]
     },
     "execution_count": 10,
     "metadata": {},
     "output_type": "execute_result"
    }
   ],
   "source": [
    "type(y)"
   ]
  },
  {
   "cell_type": "code",
   "execution_count": 12,
   "id": "b25556da",
   "metadata": {},
   "outputs": [],
   "source": [
    "z='brazil'"
   ]
  },
  {
   "cell_type": "code",
   "execution_count": 11,
   "id": "2fec74ca",
   "metadata": {},
   "outputs": [
    {
     "data": {
      "text/plain": [
       "float"
      ]
     },
     "execution_count": 11,
     "metadata": {},
     "output_type": "execute_result"
    }
   ],
   "source": [
    "type(y)"
   ]
  },
  {
   "cell_type": "code",
   "execution_count": 13,
   "id": "65ccade4",
   "metadata": {},
   "outputs": [
    {
     "data": {
      "text/plain": [
       "str"
      ]
     },
     "execution_count": 13,
     "metadata": {},
     "output_type": "execute_result"
    }
   ],
   "source": [
    "type (z)"
   ]
  },
  {
   "cell_type": "code",
   "execution_count": 17,
   "id": "993c7966",
   "metadata": {},
   "outputs": [
    {
     "data": {
      "text/plain": [
       "bool"
      ]
     },
     "execution_count": 17,
     "metadata": {},
     "output_type": "execute_result"
    }
   ],
   "source": [
    "type(True)"
   ]
  },
  {
   "cell_type": "code",
   "execution_count": 16,
   "id": "1203d820",
   "metadata": {},
   "outputs": [
    {
     "ename": "NameError",
     "evalue": "name 'false' is not defined",
     "output_type": "error",
     "traceback": [
      "\u001b[0;31m---------------------------------------------------------------------------\u001b[0m",
      "\u001b[0;31mNameError\u001b[0m                                 Traceback (most recent call last)",
      "Cell \u001b[0;32mIn[16], line 1\u001b[0m\n\u001b[0;32m----> 1\u001b[0m \u001b[38;5;28mtype\u001b[39m(\u001b[43mfalse\u001b[49m)\n",
      "\u001b[0;31mNameError\u001b[0m: name 'false' is not defined"
     ]
    }
   ],
   "source": [
    "type(false)"
   ]
  },
  {
   "cell_type": "code",
   "execution_count": 18,
   "id": "cec9dfd3",
   "metadata": {},
   "outputs": [
    {
     "data": {
      "text/plain": [
       "6"
      ]
     },
     "execution_count": 18,
     "metadata": {},
     "output_type": "execute_result"
    }
   ],
   "source": [
    "x+4"
   ]
  },
  {
   "cell_type": "code",
   "execution_count": 19,
   "id": "839f21ff",
   "metadata": {},
   "outputs": [
    {
     "data": {
      "text/plain": [
       "7.682"
      ]
     },
     "execution_count": 19,
     "metadata": {},
     "output_type": "execute_result"
    }
   ],
   "source": [
    "x+y"
   ]
  },
  {
   "cell_type": "code",
   "execution_count": 23,
   "id": "7269c3c2",
   "metadata": {},
   "outputs": [],
   "source": [
    "x=x+4"
   ]
  },
  {
   "cell_type": "code",
   "execution_count": 21,
   "id": "d9564604",
   "metadata": {},
   "outputs": [
    {
     "data": {
      "text/plain": [
       "float"
      ]
     },
     "execution_count": 21,
     "metadata": {},
     "output_type": "execute_result"
    }
   ],
   "source": [
    "type(x)"
   ]
  },
  {
   "cell_type": "code",
   "execution_count": 24,
   "id": "9f67bdae",
   "metadata": {},
   "outputs": [
    {
     "name": "stdout",
     "output_type": "stream",
     "text": [
      "15.682\n"
     ]
    }
   ],
   "source": [
    "print (x)"
   ]
  },
  {
   "cell_type": "code",
   "execution_count": 39,
   "id": "7efcdf62",
   "metadata": {},
   "outputs": [],
   "source": [
    "a= \"Hello,    \""
   ]
  },
  {
   "cell_type": "code",
   "execution_count": 40,
   "id": "3a0ba59d",
   "metadata": {},
   "outputs": [],
   "source": [
    "b= \"Marley\""
   ]
  },
  {
   "cell_type": "code",
   "execution_count": 41,
   "id": "e61d89d6",
   "metadata": {},
   "outputs": [
    {
     "data": {
      "text/plain": [
       "'Hello,    Marley'"
      ]
     },
     "execution_count": 41,
     "metadata": {},
     "output_type": "execute_result"
    }
   ],
   "source": [
    "a + b"
   ]
  },
  {
   "cell_type": "code",
   "execution_count": 50,
   "id": "3813d11e",
   "metadata": {},
   "outputs": [],
   "source": [
    "a= 'Whats up brother '"
   ]
  },
  {
   "cell_type": "code",
   "execution_count": 51,
   "id": "c79b2eee",
   "metadata": {},
   "outputs": [],
   "source": [
    "b= 'How you doin'"
   ]
  },
  {
   "cell_type": "code",
   "execution_count": 52,
   "id": "9df5fa9f",
   "metadata": {},
   "outputs": [
    {
     "data": {
      "text/plain": [
       "'Whats up brother How you doin'"
      ]
     },
     "execution_count": 52,
     "metadata": {},
     "output_type": "execute_result"
    }
   ],
   "source": [
    "a+b"
   ]
  },
  {
   "cell_type": "code",
   "execution_count": 53,
   "id": "d7b2efba",
   "metadata": {},
   "outputs": [],
   "source": [
    "n= 'potato'"
   ]
  },
  {
   "cell_type": "code",
   "execution_count": 54,
   "id": "7623bdba",
   "metadata": {},
   "outputs": [
    {
     "data": {
      "text/plain": [
       "'potatopotatopotatopotatopotatopotatopotatopotatopotatopotatopotatopotato'"
      ]
     },
     "execution_count": 54,
     "metadata": {},
     "output_type": "execute_result"
    }
   ],
   "source": [
    "n*12"
   ]
  },
  {
   "cell_type": "code",
   "execution_count": 55,
   "id": "4b41e7d9",
   "metadata": {},
   "outputs": [],
   "source": [
    "x=6"
   ]
  },
  {
   "cell_type": "code",
   "execution_count": 56,
   "id": "3c12c987",
   "metadata": {},
   "outputs": [],
   "source": [
    "y=5.678"
   ]
  },
  {
   "cell_type": "code",
   "execution_count": 57,
   "id": "bee7032f",
   "metadata": {},
   "outputs": [
    {
     "data": {
      "text/plain": [
       "False"
      ]
     },
     "execution_count": 57,
     "metadata": {},
     "output_type": "execute_result"
    }
   ],
   "source": [
    "x ==y"
   ]
  },
  {
   "cell_type": "code",
   "execution_count": 58,
   "id": "337cd667",
   "metadata": {},
   "outputs": [
    {
     "data": {
      "text/plain": [
       "bool"
      ]
     },
     "execution_count": 58,
     "metadata": {},
     "output_type": "execute_result"
    }
   ],
   "source": [
    "type (x==y)"
   ]
  },
  {
   "cell_type": "code",
   "execution_count": null,
   "id": "ecae84ac",
   "metadata": {},
   "outputs": [],
   "source": []
  }
 ],
 "metadata": {
  "kernelspec": {
   "display_name": "Python 3 (ipykernel)",
   "language": "python",
   "name": "python3"
  },
  "language_info": {
   "codemirror_mode": {
    "name": "ipython",
    "version": 3
   },
   "file_extension": ".py",
   "mimetype": "text/x-python",
   "name": "python",
   "nbconvert_exporter": "python",
   "pygments_lexer": "ipython3",
   "version": "3.10.9"
  }
 },
 "nbformat": 4,
 "nbformat_minor": 5
}
